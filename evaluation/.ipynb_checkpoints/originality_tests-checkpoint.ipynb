{
 "cells": [
  {
   "cell_type": "markdown",
   "metadata": {},
   "source": [
    "# Originality Tests"
   ]
  },
  {
   "cell_type": "markdown",
   "metadata": {},
   "source": [
    "This Notebook is used to provide a reproduceable test environment\n",
    "\n",
    "*open this file with Jupyter-Lab"
   ]
  },
  {
   "cell_type": "markdown",
   "metadata": {},
   "source": [
    "# Setup"
   ]
  },
  {
   "cell_type": "markdown",
   "metadata": {},
   "source": [
    "*We use tmux to access and monitor the individual test progress*"
   ]
  },
  {
   "cell_type": "markdown",
   "metadata": {},
   "source": [
    "*Make sure to '''chmod u+rx bc_p2p''' and all scipts*"
   ]
  },
  {
   "cell_type": "markdown",
   "metadata": {},
   "source": [
    "## Originality Ratio"
   ]
  },
  {
   "cell_type": "markdown",
   "metadata": {},
   "source": [
    "## 10 Sample Documents from Arxiv.org"
   ]
  },
  {
   "cell_type": "code",
   "execution_count": 43,
   "metadata": {},
   "outputs": [],
   "source": [
    "import pdfx\n",
    "import json"
   ]
  },
  {
   "cell_type": "code",
   "execution_count": 38,
   "metadata": {},
   "outputs": [],
   "source": [
    "# Sample 1\n",
    "pdf1 = pdfx.PDFx(\"https://arxiv.org/pdf/2010.14535.pdf\")\n",
    "metadata1 = pdf.get_metadata()\n",
    "references_dict1 = pdf.get_references_as_dict()"
   ]
  },
  {
   "cell_type": "code",
   "execution_count": 39,
   "metadata": {},
   "outputs": [
    {
     "name": "stdout",
     "output_type": "stream",
     "text": [
      "{'url': ['1807.06757', '2007.00643', 'cmu.edu', '1903.01959', '1906.08236', '2006.10034', '1912.11121', '1506.02438', '1801.02209', '1611.02200', '1511.07111', '1412.6980', '1810.06543', '1707.06347', '1706.06551', '1906.05797']}\n"
     ]
    }
   ],
   "source": [
    "print(references_dict1)"
   ]
  },
  {
   "cell_type": "code",
   "execution_count": 40,
   "metadata": {},
   "outputs": [],
   "source": [
    "\n",
    "with open('references_dict1.json', 'w') as outfile:\n",
    "    json.dump(references_dict1, outfile)"
   ]
  },
  {
   "cell_type": "code",
   "execution_count": 41,
   "metadata": {},
   "outputs": [],
   "source": [
    "# Sample 2\n",
    "pdf2 = pdfx.PDFx(\"https://arxiv.org/pdf/2010.14543.pdf\")\n",
    "metadata2 = pdf.get_metadata()\n",
    "references_dict2 = pdf.get_references_as_dict()"
   ]
  },
  {
   "cell_type": "code",
   "execution_count": 42,
   "metadata": {},
   "outputs": [
    {
     "name": "stdout",
     "output_type": "stream",
     "text": [
      "{'url': ['1807.06757', '2007.00643', 'cmu.edu', '1903.01959', '1906.08236', '2006.10034', '1912.11121', '1506.02438', '1801.02209', '1611.02200', '1511.07111', '1412.6980', '1810.06543', '1707.06347', '1706.06551', '1906.05797']}\n"
     ]
    }
   ],
   "source": [
    "print(references_dict2)"
   ]
  },
  {
   "cell_type": "code",
   "execution_count": 36,
   "metadata": {},
   "outputs": [],
   "source": [
    "with open('references_dict2.json', 'w') as outfile:\n",
    "    json.dump(references_dict2, outfile)"
   ]
  },
  {
   "cell_type": "code",
   "execution_count": null,
   "metadata": {},
   "outputs": [],
   "source": []
  }
 ],
 "metadata": {
  "kernelspec": {
   "display_name": "Python 3",
   "language": "python",
   "name": "python3"
  },
  "language_info": {
   "codemirror_mode": {
    "name": "ipython",
    "version": 3
   },
   "file_extension": ".py",
   "mimetype": "text/x-python",
   "name": "python",
   "nbconvert_exporter": "python",
   "pygments_lexer": "ipython3",
   "version": "3.8.5"
  }
 },
 "nbformat": 4,
 "nbformat_minor": 4
}
