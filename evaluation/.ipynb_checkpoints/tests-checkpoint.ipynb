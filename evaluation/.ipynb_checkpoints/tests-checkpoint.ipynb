{
 "cells": [
  {
   "cell_type": "markdown",
   "metadata": {},
   "source": [
    "# Test runs and Visualisations"
   ]
  },
  {
   "cell_type": "markdown",
   "metadata": {},
   "source": [
    "This Notebook is used to provide a reproduceable test environment\n",
    "\n",
    "*open this file with Jupyter-Lab"
   ]
  },
  {
   "cell_type": "markdown",
   "metadata": {},
   "source": [
    "# Setup"
   ]
  },
  {
   "cell_type": "code",
   "execution_count": 1,
   "metadata": {},
   "outputs": [],
   "source": [
    "import subprocess\n",
    "\n",
    "import numpy as np\n",
    "import pandas as pd \n",
    "import matplotlib.pyplot as plt\n",
    "import seaborn as sns\n",
    "\n",
    "%matplotlib inline\n",
    "%reload_ext autoreload\n",
    "%autoreload 2"
   ]
  },
  {
   "cell_type": "markdown",
   "metadata": {},
   "source": [
    "# Host Setup"
   ]
  },
  {
   "cell_type": "code",
   "execution_count": null,
   "metadata": {},
   "outputs": [],
   "source": [
    "var host_1_ip =\n",
    "var host_2_ip ="
   ]
  },
  {
   "cell_type": "markdown",
   "metadata": {},
   "source": [
    "# Peer to Peer tests"
   ]
  },
  {
   "cell_type": "markdown",
   "metadata": {},
   "source": [
    "*We use tmux to access and monitor the individual test progress*"
   ]
  },
  {
   "cell_type": "markdown",
   "metadata": {},
   "source": [
    "## Localhost"
   ]
  },
  {
   "cell_type": "markdown",
   "metadata": {},
   "source": [
    "The output CSV files are at /results."
   ]
  },
  {
   "cell_type": "markdown",
   "metadata": {},
   "source": [
    "### Batch Put"
   ]
  },
  {
   "cell_type": "markdown",
   "metadata": {},
   "source": [
    "*Make sure to '''chmod u+rx bc_p2p''' and all scipts*"
   ]
  },
  {
   "cell_type": "code",
   "execution_count": 12,
   "metadata": {},
   "outputs": [],
   "source": [
    "import subprocess\n",
    "\n",
    "hosts = 1\n",
    "maxpeers = 4\n",
    "runs = 10\n",
    "network = \"localhost\"\n",
    "\n",
    "#init\n",
    "peers = 1 \n",
    "\n",
    "while peers <= maxpeers :\n",
    "    # Start localhost peers\n",
    "    subprocess.call([\"tmux\", \"kill-server\"])\n",
    "    subprocess.call([\"sh\", \"xstarttmux.sh\", str(peers)])\n",
    "    \n",
    "    subprocess.call([\"./batchPUT.sh\", str(hosts), str(peers), str(runs), network])\n",
    "    \n",
    "    df = pd.read_csv(\"results/timings\" + str(hosts) +\"host\" + str(peers) + \"peers_batch_put_\" + network + \".csv\", names=[\"Seconds\",\"Nanoseconds\"])\n",
    "    # To milliseconds\n",
    "    df[df.columns[1]] = df[df.columns[1]].apply(lambda x: x/1000000000)\n",
    "    # Join collumns\n",
    "    df[df.columns[0]] = df[df.columns[0]] + df[df.columns[1]] \n",
    "    del df[df.columns[1]] \n",
    "    df.to_csv(\"results/seconds\" + str(hosts) + \"host\" + str(peers) +\"peers_batch_put_\" + network + \".csv\")\n",
    "    \n",
    "    peers = peers +1\n"
   ]
  },
  {
   "cell_type": "markdown",
   "metadata": {},
   "source": [
    "### Batch Get"
   ]
  },
  {
   "cell_type": "code",
   "execution_count": 69,
   "metadata": {},
   "outputs": [],
   "source": [
    "import subprocess\n",
    "\n",
    "hosts = 1\n",
    "maxpeers = 10\n",
    "runs = 10\n",
    "network = \"localhost\"\n",
    "\n",
    "#init\n",
    "peers = 1 \n",
    "\n",
    "while peers <= maxpeers :\n",
    "    # Start localhost peers\n",
    "    subprocess.call([\"tmux\", \"kill-server\"])\n",
    "    subprocess.call([\"sh\", \"xstarttmux.sh\", str(peers)])\n",
    "    \n",
    "    subprocess.call([\"./batchGET.sh\", str(hosts), str(peers), str(runs), network])\n",
    "    \n",
    "    df = pd.read_csv(\"results/timings\" + str(hosts) +\"host\" + str(peers) + \"peers_batch_get_\" + network + \".csv\", names=[\"Seconds\",\"Nanoseconds\"])\n",
    "    # To milliseconds\n",
    "    df[df.columns[1]] = df[df.columns[1]].apply(lambda x: x/1000000000)\n",
    "    # Join collumns\n",
    "    df[df.columns[0]] = df[df.columns[0]] + df[df.columns[1]] \n",
    "    del df[df.columns[1]] \n",
    "    df.to_csv(\"results/seconds\" + str(hosts) + \"host\" + str(peers) +\"peers_batch_get_\" + network + \".csv\")\n",
    "    \n",
    "    peers = peers +1\n"
   ]
  },
  {
   "cell_type": "markdown",
   "metadata": {},
   "source": [
    "## 1 Ethernet Host"
   ]
  },
  {
   "cell_type": "markdown",
   "metadata": {},
   "source": [
    "### Batch Put"
   ]
  },
  {
   "cell_type": "code",
   "execution_count": 63,
   "metadata": {},
   "outputs": [
    {
     "ename": "KeyboardInterrupt",
     "evalue": "",
     "output_type": "error",
     "traceback": [
      "\u001b[0;31m---------------------------------------------------------------------\u001b[0m",
      "\u001b[0;31mKeyboardInterrupt\u001b[0m                   Traceback (most recent call last)",
      "\u001b[0;32m<ipython-input-63-323091e8736a>\u001b[0m in \u001b[0;36m<module>\u001b[0;34m\u001b[0m\n\u001b[1;32m     28\u001b[0m \u001b[0;34m\u001b[0m\u001b[0m\n\u001b[1;32m     29\u001b[0m     \u001b[0;31m# Start batch\u001b[0m\u001b[0;34m\u001b[0m\u001b[0;34m\u001b[0m\u001b[0;34m\u001b[0m\u001b[0m\n\u001b[0;32m---> 30\u001b[0;31m     \u001b[0msubprocess\u001b[0m\u001b[0;34m.\u001b[0m\u001b[0mcall\u001b[0m\u001b[0;34m(\u001b[0m\u001b[0;34m[\u001b[0m\u001b[0;34m\"./batchPUT.sh\"\u001b[0m\u001b[0;34m,\u001b[0m \u001b[0mstr\u001b[0m\u001b[0;34m(\u001b[0m\u001b[0mhosts\u001b[0m\u001b[0;34m)\u001b[0m\u001b[0;34m,\u001b[0m \u001b[0mstr\u001b[0m\u001b[0;34m(\u001b[0m\u001b[0mpeers\u001b[0m\u001b[0;34m)\u001b[0m\u001b[0;34m,\u001b[0m \u001b[0mstr\u001b[0m\u001b[0;34m(\u001b[0m\u001b[0mruns\u001b[0m\u001b[0;34m)\u001b[0m\u001b[0;34m,\u001b[0m \u001b[0mnetwork\u001b[0m\u001b[0;34m]\u001b[0m\u001b[0;34m)\u001b[0m\u001b[0;34m\u001b[0m\u001b[0;34m\u001b[0m\u001b[0m\n\u001b[0m\u001b[1;32m     31\u001b[0m \u001b[0;34m\u001b[0m\u001b[0m\n\u001b[1;32m     32\u001b[0m     \u001b[0mdf\u001b[0m \u001b[0;34m=\u001b[0m \u001b[0mpd\u001b[0m\u001b[0;34m.\u001b[0m\u001b[0mread_csv\u001b[0m\u001b[0;34m(\u001b[0m\u001b[0;34m\"results/timings\"\u001b[0m \u001b[0;34m+\u001b[0m \u001b[0mstr\u001b[0m\u001b[0;34m(\u001b[0m\u001b[0mhosts\u001b[0m\u001b[0;34m)\u001b[0m \u001b[0;34m+\u001b[0m\u001b[0;34m\"host\"\u001b[0m \u001b[0;34m+\u001b[0m \u001b[0mstr\u001b[0m\u001b[0;34m(\u001b[0m\u001b[0mpeers\u001b[0m\u001b[0;34m)\u001b[0m \u001b[0;34m+\u001b[0m \u001b[0;34m\"peers_batch_put_\"\u001b[0m \u001b[0;34m+\u001b[0m \u001b[0mnetwork\u001b[0m \u001b[0;34m+\u001b[0m \u001b[0;34m\".csv\"\u001b[0m\u001b[0;34m,\u001b[0m \u001b[0mnames\u001b[0m\u001b[0;34m=\u001b[0m\u001b[0;34m[\u001b[0m\u001b[0;34m\"Seconds\"\u001b[0m\u001b[0;34m,\u001b[0m\u001b[0;34m\"Nanoseconds\"\u001b[0m\u001b[0;34m]\u001b[0m\u001b[0;34m)\u001b[0m\u001b[0;34m\u001b[0m\u001b[0;34m\u001b[0m\u001b[0m\n",
      "\u001b[0;32m/usr/lib/python3.8/subprocess.py\u001b[0m in \u001b[0;36mcall\u001b[0;34m(timeout, *popenargs, **kwargs)\u001b[0m\n\u001b[1;32m    340\u001b[0m     \u001b[0;32mwith\u001b[0m \u001b[0mPopen\u001b[0m\u001b[0;34m(\u001b[0m\u001b[0;34m*\u001b[0m\u001b[0mpopenargs\u001b[0m\u001b[0;34m,\u001b[0m \u001b[0;34m**\u001b[0m\u001b[0mkwargs\u001b[0m\u001b[0;34m)\u001b[0m \u001b[0;32mas\u001b[0m \u001b[0mp\u001b[0m\u001b[0;34m:\u001b[0m\u001b[0;34m\u001b[0m\u001b[0;34m\u001b[0m\u001b[0m\n\u001b[1;32m    341\u001b[0m         \u001b[0;32mtry\u001b[0m\u001b[0;34m:\u001b[0m\u001b[0;34m\u001b[0m\u001b[0;34m\u001b[0m\u001b[0m\n\u001b[0;32m--> 342\u001b[0;31m             \u001b[0;32mreturn\u001b[0m \u001b[0mp\u001b[0m\u001b[0;34m.\u001b[0m\u001b[0mwait\u001b[0m\u001b[0;34m(\u001b[0m\u001b[0mtimeout\u001b[0m\u001b[0;34m=\u001b[0m\u001b[0mtimeout\u001b[0m\u001b[0;34m)\u001b[0m\u001b[0;34m\u001b[0m\u001b[0;34m\u001b[0m\u001b[0m\n\u001b[0m\u001b[1;32m    343\u001b[0m         \u001b[0;32mexcept\u001b[0m\u001b[0;34m:\u001b[0m  \u001b[0;31m# Including KeyboardInterrupt, wait handled that.\u001b[0m\u001b[0;34m\u001b[0m\u001b[0;34m\u001b[0m\u001b[0m\n\u001b[1;32m    344\u001b[0m             \u001b[0mp\u001b[0m\u001b[0;34m.\u001b[0m\u001b[0mkill\u001b[0m\u001b[0;34m(\u001b[0m\u001b[0;34m)\u001b[0m\u001b[0;34m\u001b[0m\u001b[0;34m\u001b[0m\u001b[0m\n",
      "\u001b[0;32m/usr/lib/python3.8/subprocess.py\u001b[0m in \u001b[0;36mwait\u001b[0;34m(self, timeout)\u001b[0m\n\u001b[1;32m   1077\u001b[0m             \u001b[0mendtime\u001b[0m \u001b[0;34m=\u001b[0m \u001b[0m_time\u001b[0m\u001b[0;34m(\u001b[0m\u001b[0;34m)\u001b[0m \u001b[0;34m+\u001b[0m \u001b[0mtimeout\u001b[0m\u001b[0;34m\u001b[0m\u001b[0;34m\u001b[0m\u001b[0m\n\u001b[1;32m   1078\u001b[0m         \u001b[0;32mtry\u001b[0m\u001b[0;34m:\u001b[0m\u001b[0;34m\u001b[0m\u001b[0;34m\u001b[0m\u001b[0m\n\u001b[0;32m-> 1079\u001b[0;31m             \u001b[0;32mreturn\u001b[0m \u001b[0mself\u001b[0m\u001b[0;34m.\u001b[0m\u001b[0m_wait\u001b[0m\u001b[0;34m(\u001b[0m\u001b[0mtimeout\u001b[0m\u001b[0;34m=\u001b[0m\u001b[0mtimeout\u001b[0m\u001b[0;34m)\u001b[0m\u001b[0;34m\u001b[0m\u001b[0;34m\u001b[0m\u001b[0m\n\u001b[0m\u001b[1;32m   1080\u001b[0m         \u001b[0;32mexcept\u001b[0m \u001b[0mKeyboardInterrupt\u001b[0m\u001b[0;34m:\u001b[0m\u001b[0;34m\u001b[0m\u001b[0;34m\u001b[0m\u001b[0m\n\u001b[1;32m   1081\u001b[0m             \u001b[0;31m# https://bugs.python.org/issue25942\u001b[0m\u001b[0;34m\u001b[0m\u001b[0;34m\u001b[0m\u001b[0;34m\u001b[0m\u001b[0m\n",
      "\u001b[0;32m/usr/lib/python3.8/subprocess.py\u001b[0m in \u001b[0;36m_wait\u001b[0;34m(self, timeout)\u001b[0m\n\u001b[1;32m   1802\u001b[0m                         \u001b[0;32mif\u001b[0m \u001b[0mself\u001b[0m\u001b[0;34m.\u001b[0m\u001b[0mreturncode\u001b[0m \u001b[0;32mis\u001b[0m \u001b[0;32mnot\u001b[0m \u001b[0;32mNone\u001b[0m\u001b[0;34m:\u001b[0m\u001b[0;34m\u001b[0m\u001b[0;34m\u001b[0m\u001b[0m\n\u001b[1;32m   1803\u001b[0m                             \u001b[0;32mbreak\u001b[0m  \u001b[0;31m# Another thread waited.\u001b[0m\u001b[0;34m\u001b[0m\u001b[0;34m\u001b[0m\u001b[0m\n\u001b[0;32m-> 1804\u001b[0;31m                         \u001b[0;34m(\u001b[0m\u001b[0mpid\u001b[0m\u001b[0;34m,\u001b[0m \u001b[0msts\u001b[0m\u001b[0;34m)\u001b[0m \u001b[0;34m=\u001b[0m \u001b[0mself\u001b[0m\u001b[0;34m.\u001b[0m\u001b[0m_try_wait\u001b[0m\u001b[0;34m(\u001b[0m\u001b[0;36m0\u001b[0m\u001b[0;34m)\u001b[0m\u001b[0;34m\u001b[0m\u001b[0;34m\u001b[0m\u001b[0m\n\u001b[0m\u001b[1;32m   1805\u001b[0m                         \u001b[0;31m# Check the pid and loop as waitpid has been known to\u001b[0m\u001b[0;34m\u001b[0m\u001b[0;34m\u001b[0m\u001b[0;34m\u001b[0m\u001b[0m\n\u001b[1;32m   1806\u001b[0m                         \u001b[0;31m# return 0 even without WNOHANG in odd situations.\u001b[0m\u001b[0;34m\u001b[0m\u001b[0;34m\u001b[0m\u001b[0;34m\u001b[0m\u001b[0m\n",
      "\u001b[0;32m/usr/lib/python3.8/subprocess.py\u001b[0m in \u001b[0;36m_try_wait\u001b[0;34m(self, wait_flags)\u001b[0m\n\u001b[1;32m   1760\u001b[0m             \u001b[0;34m\"\"\"All callers to this function MUST hold self._waitpid_lock.\"\"\"\u001b[0m\u001b[0;34m\u001b[0m\u001b[0;34m\u001b[0m\u001b[0m\n\u001b[1;32m   1761\u001b[0m             \u001b[0;32mtry\u001b[0m\u001b[0;34m:\u001b[0m\u001b[0;34m\u001b[0m\u001b[0;34m\u001b[0m\u001b[0m\n\u001b[0;32m-> 1762\u001b[0;31m                 \u001b[0;34m(\u001b[0m\u001b[0mpid\u001b[0m\u001b[0;34m,\u001b[0m \u001b[0msts\u001b[0m\u001b[0;34m)\u001b[0m \u001b[0;34m=\u001b[0m \u001b[0mos\u001b[0m\u001b[0;34m.\u001b[0m\u001b[0mwaitpid\u001b[0m\u001b[0;34m(\u001b[0m\u001b[0mself\u001b[0m\u001b[0;34m.\u001b[0m\u001b[0mpid\u001b[0m\u001b[0;34m,\u001b[0m \u001b[0mwait_flags\u001b[0m\u001b[0;34m)\u001b[0m\u001b[0;34m\u001b[0m\u001b[0;34m\u001b[0m\u001b[0m\n\u001b[0m\u001b[1;32m   1763\u001b[0m             \u001b[0;32mexcept\u001b[0m \u001b[0mChildProcessError\u001b[0m\u001b[0;34m:\u001b[0m\u001b[0;34m\u001b[0m\u001b[0;34m\u001b[0m\u001b[0m\n\u001b[1;32m   1764\u001b[0m                 \u001b[0;31m# This happens if SIGCLD is set to be ignored or waiting\u001b[0m\u001b[0;34m\u001b[0m\u001b[0;34m\u001b[0m\u001b[0;34m\u001b[0m\u001b[0m\n",
      "\u001b[0;31mKeyboardInterrupt\u001b[0m: "
     ]
    }
   ],
   "source": [
    "# import subprocess\n",
    "import paramiko\n",
    "import time\n",
    "\n",
    "hosts = 1\n",
    "maxpeers = 10\n",
    "runs = 10\n",
    "network = \"ethernet\"\n",
    "\n",
    "#init\n",
    "peers = 1 \n",
    "ssh = paramiko.SSHClient()\n",
    "\n",
    "while peers <= maxpeers :\n",
    "    # Devide peers\n",
    "    \n",
    "    # Start network host peers\n",
    "    ssh.set_missing_host_key_policy(paramiko.AutoAddPolicy()) \n",
    "    ssh.connect(\"192.168.2.140\", username=\"vldb\", password=\"vldb123\")\n",
    "    ssh_stdin, ssh_stdout, ssh_stderr = ssh.exec_command(\"tmux kill-server\")\n",
    "    ssh_stdin, ssh_stdout, ssh_stderr = ssh.exec_command(\"mv /home/vldb/GIT/bc_p2p/evaluation/bc_p2p .\")\n",
    "    time.sleep(1)\n",
    "    ssh_stdin, ssh_stdout, ssh_stderr = ssh.exec_command(\"sh /home/vldb/GIT/bc_p2p/evaluation/xstarttmux.sh \"+ str(peers))\n",
    "    \n",
    "    # Start localhost peers\n",
    "    subprocess.call([\"tmux\", \"kill-server\"])\n",
    "    time.sleep(1)\n",
    "\n",
    "    # Start batch\n",
    "    subprocess.call([\"./batchPUT.sh\", str(hosts), str(peers), str(runs), network])\n",
    "    \n",
    "    df = pd.read_csv(\"results/timings\" + str(hosts) +\"host\" + str(peers) + \"peers_batch_put_\" + network + \".csv\", names=[\"Seconds\",\"Nanoseconds\"])\n",
    "    # To milliseconds\n",
    "    df[df.columns[1]] = df[df.columns[1]].apply(lambda x: x/1000000000)\n",
    "    # Join collumns\n",
    "    df[df.columns[0]] = df[df.columns[0]] + df[df.columns[1]] \n",
    "    del df[df.columns[1]] \n",
    "    df.to_csv(\"results/seconds\" + str(hosts) + \"host\" + str(peers) +\"peers_batch_put_\" + network + \".csv\")\n",
    "    \n",
    "    peers = peers +1\n",
    "    \n",
    "ssh_stdin, ssh_stdout, ssh_stderr = ssh.exec_command(\"tmux kill-server\")\n",
    "subprocess.call([\"tmux\", \"kill-server\"])\n"
   ]
  },
  {
   "cell_type": "markdown",
   "metadata": {},
   "source": [
    "### Batch GET"
   ]
  },
  {
   "cell_type": "code",
   "execution_count": 70,
   "metadata": {},
   "outputs": [
    {
     "data": {
      "text/plain": [
       "1"
      ]
     },
     "execution_count": 70,
     "metadata": {},
     "output_type": "execute_result"
    }
   ],
   "source": [
    "# import subprocess\n",
    "import paramiko\n",
    "import time\n",
    "\n",
    "hosts = 1\n",
    "maxpeers = 10\n",
    "runs = 10\n",
    "network = \"ethernet\"\n",
    "\n",
    "#init\n",
    "peers = 1 \n",
    "ssh = paramiko.SSHClient()\n",
    "\n",
    "while peers <= maxpeers :\n",
    "    # Devide peers\n",
    "    \n",
    "    # Start network host peers\n",
    "    ssh.set_missing_host_key_policy(paramiko.AutoAddPolicy()) \n",
    "    ssh.connect(\"192.168.2.140\", username=\"vldb\", password=\"vldb123\")\n",
    "    ssh_stdin, ssh_stdout, ssh_stderr = ssh.exec_command(\"tmux kill-server\")\n",
    "    ssh_stdin, ssh_stdout, ssh_stderr = ssh.exec_command(\"mv /home/vldb/GIT/bc_p2p/evaluation/bc_p2p .\")\n",
    "    time.sleep(1)\n",
    "    ssh_stdin, ssh_stdout, ssh_stderr = ssh.exec_command(\"sh /home/vldb/GIT/bc_p2p/evaluation/xstarttmux.sh \"+ str(peers))\n",
    "    \n",
    "    # Start localhost peers\n",
    "    subprocess.call([\"tmux\", \"kill-server\"])\n",
    "    time.sleep(1)\n",
    "\n",
    "    # Start batch\n",
    "    subprocess.call([\"./batchGET.sh\", str(hosts), str(peers), str(runs), network])\n",
    "    \n",
    "    df = pd.read_csv(\"results/timings\" + str(hosts) +\"host\" + str(peers) + \"peers_batch_get_\" + network + \".csv\", names=[\"Seconds\",\"Nanoseconds\"])\n",
    "    # To milliseconds\n",
    "    df[df.columns[1]] = df[df.columns[1]].apply(lambda x: x/1000000000)\n",
    "    # Join collumns\n",
    "    df[df.columns[0]] = df[df.columns[0]] + df[df.columns[1]] \n",
    "    del df[df.columns[1]] \n",
    "    df.to_csv(\"results/seconds\" + str(hosts) + \"host\" + str(peers) +\"peers_batch_get_\" + network + \".csv\")\n",
    "    \n",
    "    peers = peers +1\n",
    "    \n",
    "ssh_stdin, ssh_stdout, ssh_stderr = ssh.exec_command(\"tmux kill-server\")\n",
    "subprocess.call([\"tmux\", \"kill-server\"])\n"
   ]
  },
  {
   "cell_type": "markdown",
   "metadata": {},
   "source": [
    "## 1 Wifi Host "
   ]
  },
  {
   "cell_type": "markdown",
   "metadata": {},
   "source": [
    "#### Batch PUT"
   ]
  },
  {
   "cell_type": "code",
   "execution_count": 57,
   "metadata": {},
   "outputs": [
    {
     "data": {
      "text/plain": [
       "1"
      ]
     },
     "execution_count": 57,
     "metadata": {},
     "output_type": "execute_result"
    }
   ],
   "source": [
    "import subprocess\n",
    "import paramiko\n",
    "import time\n",
    "\n",
    "hosts = 1\n",
    "maxpeers = 10\n",
    "runs = 10\n",
    "network = \"wifi\"\n",
    "\n",
    "#init\n",
    "peers = 1 \n",
    "ssh = paramiko.SSHClient()\n",
    "\n",
    "while peers <= maxpeers :\n",
    "    # Devide peers\n",
    "    \n",
    "    # Start network host peers\n",
    "    ssh.set_missing_host_key_policy(paramiko.AutoAddPolicy()) \n",
    "    ssh.connect(\"192.168.2.126\", username=\"vldb\", password=\"vldb123\")\n",
    "    ssh_stdin, ssh_stdout, ssh_stderr = ssh.exec_command(\"tmux kill-server\")\n",
    "    ssh_stdin, ssh_stdout, ssh_stderr = ssh.exec_command(\"mv /home/vldb/GIT/bc_p2p/evaluation/bc_p2p .\")\n",
    "    time.sleep(1)\n",
    "    ssh_stdin, ssh_stdout, ssh_stderr = ssh.exec_command(\"sh /home/vldb/GIT/bc_p2p/evaluation/xstarttmux.sh \"+ str(peers))\n",
    "    \n",
    "    # Start localhost peers\n",
    "    subprocess.call([\"tmux\", \"kill-server\"])\n",
    "    time.sleep(1)\n",
    "\n",
    "    # Start batch\n",
    "    subprocess.call([\"./batchPUT.sh\", str(hosts), str(peers), str(runs), network])\n",
    "    \n",
    "    df = pd.read_csv(\"results/timings\" + str(hosts) +\"host\" + str(peers) + \"peers_batch_put_\" + network + \".csv\", names=[\"Seconds\",\"Nanoseconds\"])\n",
    "    # To milliseconds\n",
    "    df[df.columns[1]] = df[df.columns[1]].apply(lambda x: x/1000000000)\n",
    "    # Join collumns\n",
    "    df[df.columns[0]] = df[df.columns[0]] + df[df.columns[1]] \n",
    "    del df[df.columns[1]] \n",
    "    df.to_csv(\"results/seconds\" + str(hosts) + \"host\" + str(peers) +\"peers_batch_put_\" + network + \".csv\")\n",
    "    \n",
    "    peers = peers +1\n",
    "    \n",
    "ssh_stdin, ssh_stdout, ssh_stderr = ssh.exec_command(\"tmux kill-server\")\n",
    "subprocess.call([\"tmux\", \"kill-server\"])\n"
   ]
  },
  {
   "cell_type": "markdown",
   "metadata": {},
   "source": [
    "#### Batch GET"
   ]
  },
  {
   "cell_type": "code",
   "execution_count": 68,
   "metadata": {},
   "outputs": [
    {
     "data": {
      "text/plain": [
       "1"
      ]
     },
     "execution_count": 68,
     "metadata": {},
     "output_type": "execute_result"
    }
   ],
   "source": [
    "# import subprocess\n",
    "import paramiko\n",
    "import time\n",
    "\n",
    "hosts = 1\n",
    "maxpeers = 10\n",
    "runs = 10\n",
    "network = \"wifi\"\n",
    "\n",
    "#init\n",
    "peers = 1 \n",
    "ssh = paramiko.SSHClient()\n",
    "\n",
    "while peers <= maxpeers :\n",
    "    # Devide peers\n",
    "    \n",
    "    # Start network host peers\n",
    "    ssh.set_missing_host_key_policy(paramiko.AutoAddPolicy()) \n",
    "    ssh.connect(\"192.168.2.126\", username=\"vldb\", password=\"vldb123\")\n",
    "    ssh_stdin, ssh_stdout, ssh_stderr = ssh.exec_command(\"tmux kill-server\")\n",
    "    ssh_stdin, ssh_stdout, ssh_stderr = ssh.exec_command(\"mv /home/vldb/GIT/bc_p2p/evaluation/bc_p2p .\")\n",
    "    time.sleep(1)\n",
    "    ssh_stdin, ssh_stdout, ssh_stderr = ssh.exec_command(\"sh /home/vldb/GIT/bc_p2p/evaluation/xstarttmux.sh \"+ str(peers))\n",
    "    \n",
    "    # Start localhost peers\n",
    "    subprocess.call([\"tmux\", \"kill-server\"])\n",
    "    time.sleep(1)\n",
    "\n",
    "    # Start batch\n",
    "    subprocess.call([\"./batchGET.sh\", str(hosts), str(peers), str(runs), network])\n",
    "    \n",
    "    df = pd.read_csv(\"results/timings\" + str(hosts) +\"host\" + str(peers) + \"peers_batch_get_\" + network + \".csv\", names=[\"Seconds\",\"Nanoseconds\"])\n",
    "    # To milliseconds\n",
    "    df[df.columns[1]] = df[df.columns[1]].apply(lambda x: x/1000000000)\n",
    "    # Join collumns\n",
    "    df[df.columns[0]] = df[df.columns[0]] + df[df.columns[1]] \n",
    "    del df[df.columns[1]] \n",
    "    df.to_csv(\"results/seconds\" + str(hosts) + \"host\" + str(peers) +\"peers_batch_get_\" + network + \".csv\")\n",
    "    \n",
    "    peers = peers +1\n",
    "    \n",
    "ssh_stdin, ssh_stdout, ssh_stderr = ssh.exec_command(\"tmux kill-server\")\n",
    "subprocess.call([\"tmux\", \"kill-server\"])\n"
   ]
  },
  {
   "cell_type": "markdown",
   "metadata": {},
   "source": [
    "## 2 Ethernet Host"
   ]
  },
  {
   "cell_type": "markdown",
   "metadata": {},
   "source": [
    "### Batch Put"
   ]
  },
  {
   "cell_type": "code",
   "execution_count": 53,
   "metadata": {},
   "outputs": [],
   "source": [
    "import subprocess\n",
    "import paramiko\n",
    "import time\n",
    "\n",
    "hosts = 2\n",
    "maxpeers = 10\n",
    "runs = 10\n",
    "network = \"localhost\"\n",
    "\n",
    "#init\n",
    "peers = 1 \n",
    "ssh = paramiko.SSHClient()\n",
    "\n",
    "while peers <= maxpeers :\n",
    "    # Devide peers\n",
    "    net_host_peers = int(math.ceil(peers/hosts))\n",
    "    local_host_peers = int(math.floor(peers/hosts))\n",
    "    \n",
    "    # Start network host peers\n",
    "    ssh.set_missing_host_key_policy(paramiko.AutoAddPolicy()) \n",
    "    ssh.connect(\"192.168.2.140\", username=\"vldb\", password=\"vldb123\")\n",
    "    ssh_stdin, ssh_stdout, ssh_stderr = ssh.exec_command(\"tmux kill-server\")\n",
    "    ssh_stdin, ssh_stdout, ssh_stderr = ssh.exec_command(\"mv /home/vldb/GIT/bc_p2p/evaluation/bc_p2p .\")\n",
    "    time.sleep(1)\n",
    "    ssh_stdin, ssh_stdout, ssh_stderr = ssh.exec_command(\"sh /home/vldb/GIT/bc_p2p/evaluation/xstarttmux.sh \"+ str(net_host_peers))\n",
    "    \n",
    "    # Start localhost peers\n",
    "    subprocess.call([\"tmux\", \"kill-server\"])\n",
    "    time.sleep(1)\n",
    "    subprocess.call([\"sh\", \"xstarttmux.sh\", str(local_host_peers)])\n",
    "\n",
    "    # Start batch\n",
    "    subprocess.call([\"./batchPUT.sh\", str(hosts), str(peers), str(runs), network])\n",
    "    \n",
    "    df = pd.read_csv(\"results/timings\" + str(hosts) +\"host\" + str(peers) + \"peers_batch_put_\" + network + \".csv\", names=[\"Seconds\",\"Nanoseconds\"])\n",
    "    # To milliseconds\n",
    "    df[df.columns[1]] = df[df.columns[1]].apply(lambda x: x/1000000000)\n",
    "    # Join collumns\n",
    "    df[df.columns[0]] = df[df.columns[0]] + df[df.columns[1]] \n",
    "    del df[df.columns[1]] \n",
    "    df.to_csv(\"results/seconds\" + str(hosts) + \"host\" + str(peers) +\"peers_batch_put_\" + network + \".csv\")\n",
    "    \n",
    "    peers = peers +1\n",
    "    \n",
    "ssh_stdin, ssh_stdout, ssh_stderr = ssh.exec_command(\"tmux kill-server\")\n",
    "subprocess.call([\"tmux\", \"kill-server\"])\n"
   ]
  },
  {
   "cell_type": "markdown",
   "metadata": {},
   "source": [
    "### Batch Get"
   ]
  },
  {
   "cell_type": "markdown",
   "metadata": {},
   "source": [
    "# Visualization"
   ]
  },
  {
   "cell_type": "code",
   "execution_count": 72,
   "metadata": {},
   "outputs": [],
   "source": [
    "import subprocess\n",
    "\n",
    "import numpy as np\n",
    "import pandas as pd \n",
    "import matplotlib.pyplot as plt\n",
    "import seaborn as sns\n",
    "\n",
    "%matplotlib inline\n",
    "%reload_ext autoreload\n",
    "%autoreload 2"
   ]
  },
  {
   "cell_type": "code",
   "execution_count": 172,
   "metadata": {},
   "outputs": [],
   "source": [
    "# PUT\n",
    "ethernet_put_path = 'results/1Ethernet/GET/seconds1host1peers_batch_put_ethernet.csv'\n",
    "p01 = pd.read_csv(ethernet_put_path, index_col=[0], names=[\"1\"])\n",
    "p02 = pd.read_csv(ethernet_put_path, index_col=[0], names=[\"2\"])\n",
    "p03 = pd.read_csv(ethernet_put_path, index_col=[0], names=[\"3\"])\n",
    "p04 = pd.read_csv(ethernet_put_path, index_col=[0], names=[\"4\"])\n",
    "p05 = pd.read_csv(ethernet_put_path, index_col=[0], names=[\"5\"])\n",
    "p06 = pd.read_csv(ethernet_put_path, index_col=[0], names=[\"6\"])\n",
    "p07 = pd.read_csv(ethernet_put_path, index_col=[0], names=[\"7\"])\n",
    "p08 = pd.read_csv(ethernet_put_path, index_col=[0], names=[\"8\"])\n",
    "p09 = pd.read_csv(ethernet_put_path, index_col=[0], names=[\"9\"])\n",
    "p10 = pd.read_csv(ethernet_put_path, index_col=[0], names=[\"10\"])\n",
    "\n",
    "\n",
    "ethernet_put_df = pd.concat([p01, p02, p03, p04, p05, p06, p07, p08, p09, p10], axis=1, join='inner').sort_index()\n",
    "ethernet_put_df.drop(ethernet_get_df.tail(1).index,inplace=True)\n",
    "ethernet_put_df.reset_index()\n",
    "ethernet_put_df = ethernet_get_df.astype(float)\n",
    "\n",
    "\n",
    "# GET\n",
    "ethernet_get_path = 'results/1Ethernet/GET/seconds1host1peers_batch_get_ethernet.csv'\n",
    "df01 = pd.read_csv(ethernet_get_path, index_col=[0], names=[\"1\"])\n",
    "df02 = pd.read_csv(ethernet_get_path, index_col=[0], names=[\"2\"])\n",
    "df03 = pd.read_csv(ethernet_get_path, index_col=[0], names=[\"3\"])\n",
    "df04 = pd.read_csv(ethernet_get_path, index_col=[0], names=[\"4\"])\n",
    "df05 = pd.read_csv(ethernet_get_path, index_col=[0], names=[\"5\"])\n",
    "df06 = pd.read_csv(ethernet_get_path, index_col=[0], names=[\"6\"])\n",
    "df07 = pd.read_csv(ethernet_get_path, index_col=[0], names=[\"7\"])\n",
    "df08 = pd.read_csv(ethernet_get_path, index_col=[0], names=[\"8\"])\n",
    "df09 = pd.read_csv(ethernet_get_path, index_col=[0], names=[\"9\"])\n",
    "df10 = pd.read_csv(ethernet_get_path, index_col=[0], names=[\"10\"])\n",
    "\n",
    "\n",
    "ethernet_get_df = pd.concat([df01, df02, df03, df04, df05, df06, df07, df08, df09, df10], axis=1, join='inner').sort_index()\n",
    "ethernet_get_df.drop(ethernet_get_df.tail(1).index,inplace=True)\n",
    "ethernet_get_df.reset_index()\n",
    "ethernet_get_df = ethernet_get_df.astype(float)\n"
   ]
  },
  {
   "cell_type": "code",
   "execution_count": 174,
   "metadata": {},
   "outputs": [
    {
     "data": {
      "text/plain": [
       "[Text(0, 0.5, 'Seconds'), Text(0.5, 0, 'Peers')]"
      ]
     },
     "execution_count": 174,
     "metadata": {},
     "output_type": "execute_result"
    },
    {
     "data": {
      "image/png": "[encoded data removed]",
      "text/plain": [
       "<Figure size 432x288 with 1 Axes>"
      ]
     },
     "metadata": {
      "needs_background": "light"
     },
     "output_type": "display_data"
    }
   ],
   "source": [
    "# PUT\n",
    "fig = sns.boxplot(data = ethernet_put_df, palette=\"coolwarm\")\n",
    "fig.set(ylabel='Seconds', xlabel='Peers')"
   ]
  },
  {
   "cell_type": "code",
   "execution_count": 175,
   "metadata": {},
   "outputs": [
    {
     "data": {
      "text/plain": [
       "[Text(0, 0.5, 'Seconds'), Text(0.5, 0, 'Peers')]"
      ]
     },
     "execution_count": 175,
     "metadata": {},
     "output_type": "execute_result"
    },
    {
     "data": {
      "image/png": "[encoded data removed]",
      "text/plain": [
       "<Figure size 432x288 with 1 Axes>"
      ]
     },
     "metadata": {
      "needs_background": "light"
     },
     "output_type": "display_data"
    }
   ],
   "source": [
    "# GET\n",
    "fig = sns.boxplot(data = ethernet_get_df, palette=\"coolwarm\")\n",
    "fig.set(ylabel='Seconds', xlabel='Peers')"
   ]
  },
  {
   "cell_type": "code",
   "execution_count": null,
   "metadata": {},
   "outputs": [],
   "source": []
  }
 ],
 "metadata": {
  "kernelspec": {
   "display_name": "Python 3",
   "language": "python",
   "name": "python3"
  },
  "language_info": {
   "codemirror_mode": {
    "name": "ipython",
    "version": 3
   },
   "file_extension": ".py",
   "mimetype": "text/x-python",
   "name": "python",
   "nbconvert_exporter": "python",
   "pygments_lexer": "ipython3",
   "version": "3.8.5"
  }
 },
 "nbformat": 4,
 "nbformat_minor": 4
}
