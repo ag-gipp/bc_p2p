{
 "cells": [
  {
   "cell_type": "markdown",
   "metadata": {},
   "source": [
    "# Originality Tests"
   ]
  },
  {
   "cell_type": "markdown",
   "metadata": {},
   "source": [
    "This Notebook is used to provide a reproduceable test environment\n",
    "\n",
    "*open this file with Jupyter-Lab"
   ]
  },
  {
   "cell_type": "markdown",
   "metadata": {},
   "source": [
    "# Setup"
   ]
  },
  {
   "cell_type": "markdown",
   "metadata": {},
   "source": [
    "*We use tmux to access and monitor the individual test progress*"
   ]
  },
  {
   "cell_type": "markdown",
   "metadata": {},
   "source": [
    "*Make sure to '''chmod u+rx bc_p2p''' and all scipts*"
   ]
  },
  {
   "cell_type": "markdown",
   "metadata": {},
   "source": [
    "## Originality Ratio"
   ]
  },
  {
   "cell_type": "markdown",
   "metadata": {},
   "source": [
    "## 10 Sample Documents from Arxiv.org"
   ]
  },
  {
   "cell_type": "code",
   "execution_count": 3,
   "metadata": {},
   "outputs": [],
   "source": [
    "import pdfx\n",
    "import json"
   ]
  },
  {
   "cell_type": "code",
   "execution_count": 48,
   "metadata": {},
   "outputs": [
    {
     "name": "stdout",
     "output_type": "stream",
     "text": [
      "{'url': ['1704.08792', '1708.05344', '1808.05377', '1711.00436', '1611.01578', '1709.09582', '1705.10823', '2003.13869', '1909.06035', '1904.06836', '1802.03268', '1908.06022', '1806.09055', '1711.04528', '2007.16112'], 'pdf': ['1911.12126.pdf', 'https://arxiv.org/abs/1911.12126.pdf']}\n"
     ]
    }
   ],
   "source": [
    "# Sample 1\n",
    "pdf1 = pdfx.PDFx(\"https://arxiv.org/pdf/2010.14535.pdf\")\n",
    "metadata1 = pdf1.get_metadata()\n",
    "references_dict1 = pdf1.get_references_as_dict()\n",
    "print(references_dict1)\n",
    "with open('references_dict1.json', 'w') as outfile1:\n",
    "    json.dump(references_dict1, outfile1)"
   ]
  },
  {
   "cell_type": "code",
   "execution_count": 47,
   "metadata": {},
   "outputs": [
    {
     "name": "stdout",
     "output_type": "stream",
     "text": [
      "{'url': ['1807.06757', '2007.00643', 'cmu.edu', '1903.01959', '1906.08236', '2006.10034', '1912.11121', '1506.02438', '1801.02209', '1611.02200', '1511.07111', '1412.6980', '1810.06543', '1707.06347', '1706.06551', '1906.05797']}\n"
     ]
    }
   ],
   "source": [
    "# Sample 2\n",
    "pdf2 = pdfx.PDFx(\"https://arxiv.org/pdf/2010.14543.pdf\")\n",
    "metadata2 = pdf2.get_metadata()\n",
    "references_dict2 = pdf2.get_references_as_dict()\n",
    "print(references_dict2)\n",
    "with open('references_dict2.json', 'w') as outfile2:\n",
    "    json.dump(references_dict2, outfile2)"
   ]
  },
  {
   "cell_type": "code",
   "execution_count": null,
   "metadata": {},
   "outputs": [],
   "source": []
  },
  {
   "cell_type": "code",
   "execution_count": 5,
   "metadata": {},
   "outputs": [
    {
     "name": "stdout",
     "output_type": "stream",
     "text": [
      "{'url': ['https://www.nytimes.com/2018/02/08/business/new-york-times-company-earnings.html', 'https://statweb.stanford.edu/~owen/mc/', '1702.02896', 'https://medium.com/syncedreview/tree-boosting-with-xgboost-why-does-xgboost-win-every-machine-learning-competition-ca8034c0b283', '2006.13420', '1612.08468', '1608.00033', '1410.4009', '1810.04778']}\n"
     ]
    }
   ],
   "source": [
    "# Sample 3\n",
    "pdf3 = pdfx.PDFx(\"https://arxiv.org/pdf/2010.15835.pdf\")\n",
    "metadata3 = pdf3.get_metadata()\n",
    "references_dict3 = pdf3.get_references_as_dict()\n",
    "print(references_dict3)\n",
    "with open('references_dict3.json', 'w') as outfile3:\n",
    "    json.dump(references_dict3, outfile3)"
   ]
  },
  {
   "cell_type": "code",
   "execution_count": null,
   "metadata": {},
   "outputs": [],
   "source": []
  },
  {
   "cell_type": "code",
   "execution_count": 25,
   "metadata": {},
   "outputs": [
    {
     "name": "stdout",
     "output_type": "stream",
     "text": [
      "{'url': ['https://doi.org/10.1007/', 'http://dx.doi.org/10.1109/MSP.2017.2749125', 'github.com/bgshih/crnn', 'https://doi.org/10.1007/s11263-013-0620-5', 'github.com/facebookresearch/Detectron', '10.1109/ICFHR.2016.0052', 'http://dx.doi.org/10.1007/s11263-015-0816-y', '10.1109/IJCNN.2018.8489629', 'github.com/yalecyu/crnn.caﬀe', '10.1109/ICPR.2018.8545678', '10.1109/ACCESS.2019.2911851', '10.1007/s11263-015-0816-y', '10.1117/1.JEI.28.1.013023', 'http://dx.doi.org/10.1109/IJCNN.2018.8489629', 'http://dx.doi.org/10.1109/ACCESS.2019.2911851', 'http://dx.doi.org/10.1109/ICPR.2018.8545678', 'pjreddie.com/darknet/yolov2/', '10', 'http://dx.doi.org/10.1109/ICFHR.2016.0052', 'uchile.cl', 'https://web.inf.ufpr.br/vri/databases-software/touching-', '10.1109/78.650093', 'http://dx.doi.org/10.1109/TPAMI.2016.2646371', 'http://dx.doi.org/10.1109/78.650093', 'http://dx.doi.org/10.1007/s11263-013-0620-5', 'pucpr.br', '10.1109/MSP.2017.2749125', '10.1109/ICFHR-2018.2018.00023', 'https://web.inf.ufpr.br/vri/databases-', 'http://dx.doi.org/10.1109/ICFHR-2018.2018.00023', 'http://dx.doi.org/10.1117/1.JEI.28.1.013023', 'github.com/andrehochuli/digitstringrecognition', '10.1109/CVPR.2012.6248110', 'http://dx.doi.org/10.1109/CVPR.2012.6248110', 'http://dx.doi.org/10.1109/ICAIPR.2016.7585206', '10.1007/s11263-013-0620-5', '10.1109/TPAMI.2016.2646371']}\n"
     ]
    }
   ],
   "source": [
    "# Sample 4\n",
    "pdf4 = pdfx.PDFx(\"https://arxiv.org/pdf/2010.15904.pdf\")\n",
    "metadata4 = pdf4.get_metadata()\n",
    "references_dict4 = pdf4.get_references_as_dict()\n",
    "print(references_dict4)\n",
    "with open('references_dict4.json', 'w') as outfile4:\n",
    "    json.dump(references_dict4, outfile4)"
   ]
  },
  {
   "cell_type": "code",
   "execution_count": null,
   "metadata": {},
   "outputs": [],
   "source": []
  },
  {
   "cell_type": "code",
   "execution_count": 33,
   "metadata": {},
   "outputs": [
    {
     "name": "stdout",
     "output_type": "stream",
     "text": [
      "{'url': ['https://doi.org/10.1016/j.techfore.2018.09.009', 'https://doi.org/10.1016/j.electstud.2015.11.017', '1701.06232', 'https://www.allacronyms.com/social_networking/abbreviations', 'https://doi.org/10.1109/MIS.2015.17', 'https://doi.org/10.1109/BigData.2016.7840818', 'https://doi.org/10.1109/ICDMW.2015.113', 'https://doi.org/10.1007/s00024-003-', 'https://github.com/fnielsen/afinn', 'https://doi.org/10.15581/009.37.2.455-479', 'https://doi.org/10.2307/j.ctvk8w129.20', 'https://doi.org/10.1140/epjds/s13688-018-0163-7', 'https://doi.org/10.1145/2896387.2896396', 'https://doi.org/10.21203/rs.3.rs-16463/v2', 'https://doi.org/10.1109/TMM.2015.2487863', 'https://doi.org/10.17680/erciyesakademia.291888', 'https://doi.org/10.1007/s12652-020-02423-y', 'https://cran.r-', 'https://doi.org/10.1145/3325112.3325252', 'https://doi.org/10.1007/s12652-019-01378-z', 'https://www.pewresearch.org/global/2012/12/12/social-networking-popular-across-globe/', 'https://doi.org/10.1002/asi.21416', 'https://doi.org/10.1016/j.procs.2018.08.183', 'https://doi.org/10.1186/s40537-', 'https://doi.org/10.1177/0894439314521983', 'https://doi.org/10.1007/s13278-018-0525-y', 'project.org/web/packages/syuzhet/vignettes/syuzhet-vignette.html', 'https://doi.org/10.1109/ICSITech.2016.7852647', 'https://doi.org/10.1080/13645579.2012.756095', 'https://doi.org/10.1080/01292986.2018.1453849', 'https://doi.org/10.1109/MACS.2018.8628445', 'https://doi.org/10.1109/ICEDEG.2017.7962525', 'Http://Comp', 'https://doi.org/10.1109/SAPIENCE.2016.7684133', 'https://doi.org/10.1109/HICSS.2015.202', 'https://doi.org/10.1109/HICSS.2012.607', 'http://repo.bg.pw.edu.pl/index.php/en/r#/info/bachelor/WUT4a113c9f11ad427b98d0d9aa76c', 'https://doi.org/10.1007/s13278-014-0193-5'], 'arxiv': ['1211.0938']}\n"
     ]
    }
   ],
   "source": [
    "# Sample 5\n",
    "pdf5 = pdfx.PDFx(\"https://arxiv.org/pdf/2010.15938.pdf\")\n",
    "metadata4 = pdf5.get_metadata()\n",
    "references_dict5 = pdf5.get_references_as_dict()\n",
    "print(references_dict5)\n",
    "with open('references_dict5.json', 'w') as outfile5:\n",
    "    json.dump(references_dict5, outfile5)"
   ]
  },
  {
   "cell_type": "code",
   "execution_count": null,
   "metadata": {},
   "outputs": [],
   "source": []
  }
 ],
 "metadata": {
  "kernelspec": {
   "display_name": "Python 3",
   "language": "python",
   "name": "python3"
  },
  "language_info": {
   "codemirror_mode": {
    "name": "ipython",
    "version": 3
   },
   "file_extension": ".py",
   "mimetype": "text/x-python",
   "name": "python",
   "nbconvert_exporter": "python",
   "pygments_lexer": "ipython3",
   "version": "3.8.3"
  }
 },
 "nbformat": 4,
 "nbformat_minor": 4
}
