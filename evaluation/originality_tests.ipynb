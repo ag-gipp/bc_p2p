{
 "cells": [
  {
   "cell_type": "markdown",
   "metadata": {},
   "source": [
    "# Originality Tests"
   ]
  },
  {
   "cell_type": "markdown",
   "metadata": {},
   "source": [
    "This Notebook is used to provide a reproduceable test environment\n",
    "\n",
    "*open this file with Jupyter-Lab"
   ]
  },
  {
   "cell_type": "markdown",
   "metadata": {},
   "source": [
    "# Setup"
   ]
  },
  {
   "cell_type": "markdown",
   "metadata": {},
   "source": [
    "*We use tmux to access and monitor the individual test progress*"
   ]
  },
  {
   "cell_type": "markdown",
   "metadata": {},
   "source": [
    "*Make sure to '''chmod u+rx bc_p2p''' and all scipts*"
   ]
  },
  {
   "cell_type": "markdown",
   "metadata": {},
   "source": [
    "## Originality Ratio"
   ]
  },
  {
   "cell_type": "markdown",
   "metadata": {},
   "source": [
    "## 10 Sample Documents from Arxiv.org"
   ]
  },
  {
   "cell_type": "code",
   "execution_count": 43,
   "metadata": {},
   "outputs": [],
   "source": [
    "import pdfx\n",
    "import json"
   ]
  },
  {
   "cell_type": "code",
   "execution_count": 48,
   "metadata": {},
   "outputs": [
    {
     "name": "stdout",
     "output_type": "stream",
     "text": [
      "{'url': ['1704.08792', '1708.05344', '1808.05377', '1711.00436', '1611.01578', '1709.09582', '1705.10823', '2003.13869', '1909.06035', '1904.06836', '1802.03268', '1908.06022', '1806.09055', '1711.04528', '2007.16112'], 'pdf': ['1911.12126.pdf', 'https://arxiv.org/abs/1911.12126.pdf']}\n"
     ]
    }
   ],
   "source": [
    "# Sample 1\n",
    "pdf1 = pdfx.PDFx(\"https://arxiv.org/pdf/2010.14535.pdf\")\n",
    "metadata1 = pdf1.get_metadata()\n",
    "references_dict1 = pdf1.get_references_as_dict()\n",
    "print(references_dict1)\n",
    "with open('references_dict1.json', 'w') as outfile1:\n",
    "    json.dump(references_dict1, outfile1)"
   ]
  },
  {
   "cell_type": "code",
   "execution_count": 47,
   "metadata": {},
   "outputs": [
    {
     "name": "stdout",
     "output_type": "stream",
     "text": [
      "{'url': ['1807.06757', '2007.00643', 'cmu.edu', '1903.01959', '1906.08236', '2006.10034', '1912.11121', '1506.02438', '1801.02209', '1611.02200', '1511.07111', '1412.6980', '1810.06543', '1707.06347', '1706.06551', '1906.05797']}\n"
     ]
    }
   ],
   "source": [
    "# Sample 2\n",
    "pdf2 = pdfx.PDFx(\"https://arxiv.org/pdf/2010.14543.pdf\")\n",
    "metadata2 = pdf2.get_metadata()\n",
    "references_dict2 = pdf2.get_references_as_dict()\n",
    "print(references_dict2)\n",
    "with open('references_dict2.json', 'w') as outfile2:\n",
    "    json.dump(references_dict2, outfile2)"
   ]
  },
  {
   "cell_type": "code",
   "execution_count": null,
   "metadata": {},
   "outputs": [],
   "source": []
  }
 ],
 "metadata": {
  "kernelspec": {
   "display_name": "Python 3",
   "language": "python",
   "name": "python3"
  },
  "language_info": {
   "codemirror_mode": {
    "name": "ipython",
    "version": 3
   },
   "file_extension": ".py",
   "mimetype": "text/x-python",
   "name": "python",
   "nbconvert_exporter": "python",
   "pygments_lexer": "ipython3",
   "version": "3.8.5"
  }
 },
 "nbformat": 4,
 "nbformat_minor": 4
}
